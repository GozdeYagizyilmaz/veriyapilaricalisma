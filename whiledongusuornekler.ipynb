{
  "cells": [
    {
      "cell_type": "code",
      "execution_count": null,
      "metadata": {
        "colab": {
          "base_uri": "https://localhost:8080/"
        },
        "id": "fCg-YfYeY_dz",
        "outputId": "fb87adb4-d829-4e60-8ada-675b98cbd646"
      },
      "outputs": [
        {
          "name": "stdout",
          "output_type": "stream",
          "text": [
            " Phyton While döngüsü örnekleri/Veri Yapıları-ISTKA\n"
          ]
        }
      ],
      "source": [
        "print(\" Phyton While döngüsü örnekleri/Veri Yapıları-ISTKA\")"
      ]
    },
    {
      "cell_type": "markdown",
      "metadata": {
        "id": "lzVZTiD2aVJ0"
      },
      "source": [
        "While döngüsü, belirli bir koşul doğru olduğu sürece işlemleri tekrarlayan bir döngü türüdür."
      ]
    },
    {
      "cell_type": "code",
      "execution_count": null,
      "metadata": {
        "colab": {
          "base_uri": "https://localhost:8080/"
        },
        "id": "cFwc4WdQZR1h",
        "outputId": "69c8b42c-667f-4b91-f6cf-ab3e7234679f"
      },
      "outputs": [
        {
          "name": "stdout",
          "output_type": "stream",
          "text": [
            "3.10.12 (main, Jul 29 2024, 16:56:48) [GCC 11.4.0]\n"
          ]
        }
      ],
      "source": [
        "import sys\n",
        "print (sys.version)"
      ]
    },
    {
      "cell_type": "code",
      "execution_count": null,
      "metadata": {
        "colab": {
          "base_uri": "https://localhost:8080/"
        },
        "id": "_ebVcwcEZZ0J",
        "outputId": "d4e34abc-51fa-4bbb-d4a9-99979ca77e96"
      },
      "outputs": [
        {
          "name": "stdout",
          "output_type": "stream",
          "text": [
            "Mounted at /content/drive/\n"
          ]
        }
      ],
      "source": [
        "from google.colab import drive\n",
        "drive.mount ('/content/drive/')"
      ]
    },
    {
      "cell_type": "code",
      "execution_count": null,
      "metadata": {
        "colab": {
          "base_uri": "https://localhost:8080/"
        },
        "id": "ifZ5AJDZ8TVA",
        "outputId": "c9e460ee-befa-4a65-a45c-3519ca837197"
      },
      "outputs": [
        {
          "name": "stdout",
          "output_type": "stream",
          "text": [
            "/content/drive/My Drive/veriyapilari_istka\n"
          ]
        }
      ],
      "source": [
        "import os\n",
        "os.chdir('/content/drive/My Drive/veriyapilari_istka')\n",
        "\n",
        "!pwd # bize kodun çıktısını dosya yolu olarak veren kod blogudur."
      ]
    },
    {
      "cell_type": "code",
      "execution_count": null,
      "metadata": {
        "colab": {
          "base_uri": "https://localhost:8080/"
        },
        "id": "PUqdul_3aNgB",
        "outputId": "a43f11ab-6d7d-49cc-ae6e-ca58884b6e3b"
      },
      "outputs": [
        {
          "name": "stdout",
          "output_type": "stream",
          "text": [
            "sayi 0\n",
            "sayi 1\n",
            "sayi 2\n",
            "sayi 3\n",
            "sayi 4\n"
          ]
        }
      ],
      "source": [
        "sayac=0\n",
        "\n",
        "while sayac<5:\n",
        "\n",
        "      print(\"sayi\",sayac)\n",
        "\n",
        "      sayac+=1 #buradaki sayac değişkenini 1 arttırmazsak döngü 0000000.....000 şeklinde devam eder.\n"
      ]
    },
    {
      "cell_type": "code",
      "execution_count": null,
      "metadata": {
        "colab": {
          "base_uri": "https://localhost:8080/"
        },
        "id": "StDpNBC4bSUt",
        "outputId": "f398681a-a857-4d80-f7c8-2633b39befc0"
      },
      "outputs": [
        {
          "name": "stdout",
          "output_type": "stream",
          "text": [
            "merhaba dünya\n"
          ]
        }
      ],
      "source": [
        "while True:\n",
        "  print(\"merhaba dünya\")\n",
        "\n",
        "  break #break yazmazsak merhaba dünya koşulunu sağladığı sürece yazdırmaya devam eder."
      ]
    },
    {
      "cell_type": "code",
      "execution_count": null,
      "metadata": {
        "colab": {
          "base_uri": "https://localhost:8080/"
        },
        "id": "lO-XFs9ncDyQ",
        "outputId": "4a4e1be2-020c-452e-a4a6-534b627fc29c"
      },
      "outputs": [
        {
          "name": "stdout",
          "output_type": "stream",
          "text": [
            "1. Sayı:6\n",
            "2. Sayı:6\n",
            "6 + 6 = 12\n",
            "Başka işlem yapılsın mı?(e/h):h\n",
            "Program kapatıldı.\n"
          ]
        }
      ],
      "source": [
        "#while döngüsünde kullanıcıdan alınan iki sayının toplamı\n",
        "\n",
        "while True:\n",
        "    sayi1 = int(input(\"1. Sayı:\"))\n",
        "    sayi2 = int(input(\"2. Sayı:\"))\n",
        "\n",
        "    toplam = sayi1+sayi2\n",
        "    print(sayi1,\"+\",sayi2,\"=\",toplam)\n",
        "\n",
        "    cevap = input(\"Başka işlem yapılsın mı?(e/h):\")\n",
        "\n",
        "    if cevap == \"h\":\n",
        "        print(\"Program kapatıldı.\")\n",
        "        break"
      ]
    },
    {
      "cell_type": "code",
      "execution_count": null,
      "metadata": {
        "colab": {
          "base_uri": "https://localhost:8080/"
        },
        "id": "wWOzEsxOehCt",
        "outputId": "a1b6a773-add3-463f-8faf-a2711f22f931"
      },
      "outputs": [
        {
          "name": "stdout",
          "output_type": "stream",
          "text": [
            "Tek sayı: 1\n",
            "Tek sayı: 3\n",
            "Tek sayı: 5\n",
            "Tek sayı: 7\n",
            "Tek sayı: 9\n"
          ]
        }
      ],
      "source": [
        "#Whille döngüsünde 1 den 10 a kadar olan Tek sayıları yazdırma\n",
        "\n",
        "i = 1\n",
        "while i <= 10:\n",
        "    if i % 2 == 0:\n",
        "        i += 1\n",
        "        continue\n",
        "    print(\"Tek sayı:\", i)\n",
        "    i += 1"
      ]
    },
    {
      "cell_type": "code",
      "source": [
        "#Sayı Tahmini Oyunu Hazırlayalım :)\n",
        "\n",
        "from random import randint\n",
        "\n",
        "print('0 ile programdan çıkabilirsiniz!')\n",
        "a = int(input())\n",
        "rastgele = randint(1, 10)\n",
        "say = 1\n",
        "while not(a == 0 or a == rastgele):\n",
        "    if a > rastgele:\n",
        "        print('Daha küçük sayı giriniz')\n",
        "    else:\n",
        "        print('Daha büyük sayı giriniz')\n",
        "    say += 1\n",
        "    a = int(input())\n",
        "if a != 0:\n",
        "    print(say, 'defada buldunuz!')"
      ],
      "metadata": {
        "colab": {
          "base_uri": "https://localhost:8080/"
        },
        "id": "MTLv9l1eiym5",
        "outputId": "ad980d06-6672-4361-e61c-931503c22a27"
      },
      "execution_count": 18,
      "outputs": [
        {
          "output_type": "stream",
          "name": "stdout",
          "text": [
            "0 ile programdan çıkabilirsiniz!\n",
            "6\n",
            "1 defada buldunuz!\n"
          ]
        }
      ]
    }
  ],
  "metadata": {
    "colab": {
      "provenance": []
    },
    "kernelspec": {
      "display_name": "Python 3",
      "name": "python3"
    },
    "language_info": {
      "name": "python"
    }
  },
  "nbformat": 4,
  "nbformat_minor": 0
}