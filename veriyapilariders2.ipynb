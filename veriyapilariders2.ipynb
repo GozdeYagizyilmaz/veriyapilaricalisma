{
  "nbformat": 4,
  "nbformat_minor": 0,
  "metadata": {
    "colab": {
      "provenance": []
    },
    "kernelspec": {
      "name": "python3",
      "display_name": "Python 3"
    },
    "language_info": {
      "name": "python"
    }
  },
  "cells": [
    {
      "cell_type": "code",
      "execution_count": 8,
      "metadata": {
        "colab": {
          "base_uri": "https://localhost:8080/"
        },
        "id": "2U789TQ5pAt-",
        "outputId": "4fe668b0-d00e-4636-eff2-a9ce9b0f3c88"
      },
      "outputs": [
        {
          "output_type": "stream",
          "name": "stdout",
          "text": [
            "Merhaba İGÜ -İSTKA/DERS2\n"
          ]
        }
      ],
      "source": [
        "print (\"Merhaba İGÜ -İSTKA/DERS2\")"
      ]
    },
    {
      "cell_type": "code",
      "source": [
        "import sys #\n",
        "print(sys.version)"
      ],
      "metadata": {
        "colab": {
          "base_uri": "https://localhost:8080/"
        },
        "id": "-KgDnsnSpakU",
        "outputId": "2d05b9ac-2b23-4552-e3d3-7b91a272342d"
      },
      "execution_count": 9,
      "outputs": [
        {
          "output_type": "stream",
          "name": "stdout",
          "text": [
            "3.10.12 (main, Jul 29 2024, 16:56:48) [GCC 11.4.0]\n"
          ]
        }
      ]
    },
    {
      "cell_type": "code",
      "source": [
        "from google.colab import drive\n",
        "drive.mount('/content/drive')"
      ],
      "metadata": {
        "colab": {
          "base_uri": "https://localhost:8080/"
        },
        "id": "N4kXoinxp0Ue",
        "outputId": "7f0a7e37-eb8f-4746-cce3-3031a5cc1b87"
      },
      "execution_count": 10,
      "outputs": [
        {
          "output_type": "stream",
          "name": "stdout",
          "text": [
            "Mounted at /content/drive\n"
          ]
        }
      ]
    },
    {
      "cell_type": "code",
      "source": [
        "import os\n",
        "os.chdir('/content/drive/My Drive/veriyapilari_istka')\n",
        "\n",
        "!pwd # bize kodun çıktısını dosya yolu olarak veren kod blogudur."
      ],
      "metadata": {
        "colab": {
          "base_uri": "https://localhost:8080/"
        },
        "id": "ifZ5AJDZ8TVA",
        "outputId": "6656edba-353c-4560-d2f2-c404cff03dad"
      },
      "execution_count": 13,
      "outputs": [
        {
          "output_type": "stream",
          "name": "stdout",
          "text": [
            "/content/drive/My Drive/veriyapilari_istka\n"
          ]
        }
      ]
    },
    {
      "cell_type": "code",
      "source": [
        "#Geçerli Değişken Tanımlaması\n",
        "degisken_1=10\n",
        "Degisken2=10\n",
        "_degisken3=30"
      ],
      "metadata": {
        "id": "8BdMEnUCvfbz"
      },
      "execution_count": 14,
      "outputs": []
    },
    {
      "cell_type": "code",
      "source": [
        "#Geçersiz değişken tanımlaması\n",
        "1degisken=40\n",
        "degisken-4=50\n"
      ],
      "metadata": {
        "colab": {
          "base_uri": "https://localhost:8080/",
          "height": 106
        },
        "id": "1XjsnMMIwB60",
        "outputId": "3222e55c-a59a-4680-df21-af48cc237538"
      },
      "execution_count": 7,
      "outputs": [
        {
          "output_type": "error",
          "ename": "SyntaxError",
          "evalue": "invalid decimal literal (<ipython-input-7-f25650424e3e>, line 2)",
          "traceback": [
            "\u001b[0;36m  File \u001b[0;32m\"<ipython-input-7-f25650424e3e>\"\u001b[0;36m, line \u001b[0;32m2\u001b[0m\n\u001b[0;31m    1degisken=40\u001b[0m\n\u001b[0m    ^\u001b[0m\n\u001b[0;31mSyntaxError\u001b[0m\u001b[0;31m:\u001b[0m invalid decimal literal\n"
          ]
        }
      ]
    },
    {
      "cell_type": "code",
      "source": [
        "# Degisken tanımlama işlemi\n",
        "\n",
        "x = 5\n",
        "y = \"Merhaba Dünya\"\n",
        "\n",
        "print(x)\n",
        "print(y)"
      ],
      "metadata": {
        "colab": {
          "base_uri": "https://localhost:8080/"
        },
        "id": "HngqtGP8wTkx",
        "outputId": "1de5fe79-2c8c-4713-8f6d-422d4b42d0f0"
      },
      "execution_count": 18,
      "outputs": [
        {
          "output_type": "stream",
          "name": "stdout",
          "text": [
            "5\n",
            "Merhaba Dünya\n"
          ]
        }
      ]
    },
    {
      "cell_type": "code",
      "source": [
        "# İnteger-Tamsayı Tanımlaması\n",
        "a=10\n",
        "print(type(a))\n"
      ],
      "metadata": {
        "colab": {
          "base_uri": "https://localhost:8080/"
        },
        "id": "lo1WkLuCyLC_",
        "outputId": "eb7f5de0-ff91-46e6-b5e1-276b8fe3b366"
      },
      "execution_count": 20,
      "outputs": [
        {
          "output_type": "stream",
          "name": "stdout",
          "text": [
            "<class 'int'>\n"
          ]
        }
      ]
    },
    {
      "cell_type": "code",
      "source": [
        "#Float -Ondalıklı Sayı Tanımlaması\n",
        "b=20.5\n",
        "print(type(b))\n"
      ],
      "metadata": {
        "colab": {
          "base_uri": "https://localhost:8080/"
        },
        "id": "2qieI7Bv5fM6",
        "outputId": "05211cbf-bac6-4938-8ac7-6c5810c01590"
      },
      "execution_count": 21,
      "outputs": [
        {
          "output_type": "stream",
          "name": "stdout",
          "text": [
            "<class 'float'>\n"
          ]
        }
      ]
    },
    {
      "cell_type": "code",
      "source": [
        "#int ten float a çevrimin yapımı\n",
        "x=10\n",
        "y=float(x)\n",
        "print(y,type(y))\n"
      ],
      "metadata": {
        "colab": {
          "base_uri": "https://localhost:8080/"
        },
        "id": "mpLc2o-56YOI",
        "outputId": "e2157401-c775-4696-ecd8-5ced8e16868b"
      },
      "execution_count": 23,
      "outputs": [
        {
          "output_type": "stream",
          "name": "stdout",
          "text": [
            "10.0 <class 'float'>\n"
          ]
        }
      ]
    },
    {
      "cell_type": "code",
      "source": [
        "# Float tan int e çevrimin yapımı\n",
        "a=12.34\n",
        "b=int(a)\n",
        "print(b,type(b))"
      ],
      "metadata": {
        "colab": {
          "base_uri": "https://localhost:8080/"
        },
        "id": "8gaUOiCE618K",
        "outputId": "df5e33f6-85c0-4bf4-89a7-1194db6cb56f"
      },
      "execution_count": 27,
      "outputs": [
        {
          "output_type": "stream",
          "name": "stdout",
          "text": [
            "12 <class 'int'>\n"
          ]
        }
      ]
    },
    {
      "cell_type": "code",
      "source": [
        "# String- Metinsel içerik tanımlaması\n",
        "c= \"Python Programlama\"\n",
        "print(c)\n",
        "print(type(c))"
      ],
      "metadata": {
        "colab": {
          "base_uri": "https://localhost:8080/"
        },
        "id": "qUT43gG_7cpo",
        "outputId": "2994a3b2-7d97-4239-841a-7fa391f222b8"
      },
      "execution_count": 28,
      "outputs": [
        {
          "output_type": "stream",
          "name": "stdout",
          "text": [
            "Python Programlama\n",
            "<class 'str'>\n"
          ]
        }
      ]
    },
    {
      "cell_type": "code",
      "source": [
        "# Boolean (true-False) Tanımlaması\n",
        "d=True\n",
        "e=False\n",
        "\n",
        "print(d)\n",
        "print(type(e))"
      ],
      "metadata": {
        "colab": {
          "base_uri": "https://localhost:8080/"
        },
        "id": "TVe0hzWD72R7",
        "outputId": "7ca9bb50-3b68-4f3b-f4f6-174a4c2856f5"
      },
      "execution_count": 29,
      "outputs": [
        {
          "output_type": "stream",
          "name": "stdout",
          "text": [
            "True\n",
            "<class 'bool'>\n"
          ]
        }
      ]
    },
    {
      "cell_type": "code",
      "source": [
        "#List -Liste Tanımlaması\n",
        "liste=[1,2,3,4,5]\n",
        "print(type(liste))\n",
        "print(liste)\n"
      ],
      "metadata": {
        "colab": {
          "base_uri": "https://localhost:8080/"
        },
        "id": "97OO-Efz9O6n",
        "outputId": "b3679ccf-344a-457a-bfa0-9f94b12b3901"
      },
      "execution_count": 31,
      "outputs": [
        {
          "output_type": "stream",
          "name": "stdout",
          "text": [
            "<class 'list'>\n",
            "[1, 2, 3, 4, 5]\n"
          ]
        }
      ]
    },
    {
      "cell_type": "code",
      "source": [
        "#Tuple - Demet Tanımlaması\n",
        "mytuple=(1,2,3,4,5)\n",
        "print(type(mytuple))\n",
        "print(mytuple)\n"
      ],
      "metadata": {
        "colab": {
          "base_uri": "https://localhost:8080/"
        },
        "id": "bExUG4ad-Yk_",
        "outputId": "fbb8935f-69ac-471e-e6ba-9db9a0aea629"
      },
      "execution_count": 32,
      "outputs": [
        {
          "output_type": "stream",
          "name": "stdout",
          "text": [
            "<class 'tuple'>\n",
            "(1, 2, 3, 4, 5)\n"
          ]
        }
      ]
    },
    {
      "cell_type": "code",
      "source": [
        "# Dictionary- Sözlük Örneği-Öğrencilerin Notları\n",
        "notlar={\n",
        "    \"Ali\":85,  #değişken tanımlanır\n",
        "    \"Veli\":90,\n",
        "    \"Ayşe\":78,\n",
        "}\n",
        "\n",
        "notlar[\"FATMA\"] = 92 #YENİ ÖĞRENCİ EKLEME\n",
        "notlar[\"Ali\"]=88 #not güncelleme\n",
        "\n",
        "print(notlar)\n",
        "\n",
        "#sonuç gösterilirken tek tırnak değişken, çift tırnak string anlamına gelir\n"
      ],
      "metadata": {
        "colab": {
          "base_uri": "https://localhost:8080/"
        },
        "id": "2zpxPeCb-4lP",
        "outputId": "dd01083f-c564-4dcb-a8b7-409e4875c4c9"
      },
      "execution_count": 33,
      "outputs": [
        {
          "output_type": "stream",
          "name": "stdout",
          "text": [
            "{'Ali': 88, 'Veli': 90, 'Ayşe': 78, 'FATMA': 92}\n"
          ]
        }
      ]
    },
    {
      "cell_type": "code",
      "source": [
        "print(notlar.keys())  #dict_keys (['isim','yas','meslek'])\n",
        "print(notlar.values()) #dict_values(['Ahmet,26,Mühendis])\n",
        "print(notlar.items)   #dict_items([('isim', 'Ahmet'), ('yas', 26), ('meslek', 'Mühendis')])"
      ],
      "metadata": {
        "colab": {
          "base_uri": "https://localhost:8080/"
        },
        "id": "HhSMkoBiBSY-",
        "outputId": "df4e63d5-2c8b-4df0-a45c-c2d7a485e190"
      },
      "execution_count": 35,
      "outputs": [
        {
          "output_type": "stream",
          "name": "stdout",
          "text": [
            "dict_keys(['Ali', 'Veli', 'Ayşe', 'FATMA'])\n",
            "dict_values([88, 90, 78, 92])\n",
            "<built-in method items of dict object at 0x7feb5a501c40>\n"
          ]
        }
      ]
    },
    {
      "cell_type": "code",
      "source": [
        "\n",
        "# Set - Küme Örneği -> Bir yazılım etkinliğine katılan kişilerin oluşturduğu kümeler\n",
        "kodyazanlar = {\"Ahmet\", \"Mehmet\", \"Ayşe\"}\n",
        "kodyazmayanlar = {\"Ayşe\", \"Fatma\", \"Veli\"}\n",
        "\n",
        "# Kafasına Göre Takılan Öğrenciler\n",
        "ortak = kodyazanlar.intersection(kodyazmayanlar)\n",
        "print(\"Kafasına Göre Takılan Öğrencilerin Listesi:\", ortak)\n",
        "\n",
        "# Etkinlikte Kod Çalışması Yapmayan Öğrencilerin Tespiti\n",
        "Kod_yazmayan = kodyazmayanlar.difference(kodyazanlar)\n",
        "print(\"Kod çalışması yapmayan öğrenci listesi:\", Kod_yazmayan)\n",
        "\n",
        "# Yazılım Eğitiminin Öğrenci İmza Listesi\n",
        "imza_listesi = kodyazanlar.union(kodyazmayanlar)\n",
        "print(\"Etkinlik katılımcıları:\", imza_listesi)\n"
      ],
      "metadata": {
        "colab": {
          "base_uri": "https://localhost:8080/"
        },
        "id": "jgoFokZtBytf",
        "outputId": "ee297038-0f11-41fd-976d-3f9400e5dba9"
      },
      "execution_count": 34,
      "outputs": [
        {
          "output_type": "stream",
          "name": "stdout",
          "text": [
            "Kafasına Göre Takılan Öğrencilerin Listesi: {'Ayşe'}\n",
            "Kod çalışması yapmayan öğrenci listesi: {'Fatma', 'Veli'}\n",
            "Etkinlik katılımcıları: {'Fatma', 'Ahmet', 'Ayşe', 'Mehmet', 'Veli'}\n"
          ]
        }
      ]
    },
    {
      "cell_type": "code",
      "source": [
        "#İnput girişi örneği / Dışarıdan veri alma\n",
        "giris = input(\"Bir sayı girin: \")\n",
        "try:\n",
        "    num = float(giris)\n",
        "    print(f\"Girilen sayı: {num}, tipi: {type(num)},\", abs(num))\n",
        "except ValueError:\n",
        "    print(\"Geçersiz veri girdiniz.\")\n",
        ""
      ],
      "metadata": {
        "colab": {
          "base_uri": "https://localhost:8080/"
        },
        "id": "e3RvM7OTAzCi",
        "outputId": "c8a0c68a-c73b-4dd9-b08f-0e38b27046c1"
      },
      "execution_count": 40,
      "outputs": [
        {
          "output_type": "stream",
          "name": "stdout",
          "text": [
            "Bir sayı girin: -34\n",
            "Girilen sayı: -34.0, tipi: <class 'float'>, 34.0\n"
          ]
        }
      ]
    },
    {
      "cell_type": "code",
      "source": [
        "# 0 ile 1 arasında rastgele bir ondalık sayı üretir\n",
        "\n",
        "import random\n",
        "\n",
        "rastgele_float = random.random()\n",
        "print(\"Rastgele Deger:\", rastgele_float)"
      ],
      "metadata": {
        "colab": {
          "base_uri": "https://localhost:8080/"
        },
        "id": "RYCutvEKD0B_",
        "outputId": "b2229598-f7a5-4d2a-c57c-d367fd707178"
      },
      "execution_count": 37,
      "outputs": [
        {
          "output_type": "stream",
          "name": "stdout",
          "text": [
            "Rastgele Deger: 0.8348013673365305\n"
          ]
        }
      ]
    },
    {
      "cell_type": "code",
      "source": [
        "# 1 ile 10 arasında (her iki sınır dahil) rastgele bir tam sayı üretir\n",
        "\n",
        "import random\n",
        "\n",
        "rastgele_sayi = random.randint(1, 10)\n",
        "print(\"Rastgele Deger:\", rastgele_sayi)"
      ],
      "metadata": {
        "colab": {
          "base_uri": "https://localhost:8080/"
        },
        "id": "w3QWiRWVFPsU",
        "outputId": "1f60a7e4-1beb-4f68-c549-b727499263bf"
      },
      "execution_count": 41,
      "outputs": [
        {
          "output_type": "stream",
          "name": "stdout",
          "text": [
            "Rastgele Deger: 4\n"
          ]
        }
      ]
    }
  ]
}