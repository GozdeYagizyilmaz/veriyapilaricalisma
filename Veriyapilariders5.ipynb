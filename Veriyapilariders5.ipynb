{
  "nbformat": 4,
  "nbformat_minor": 0,
  "metadata": {
    "colab": {
      "provenance": []
    },
    "kernelspec": {
      "name": "python3",
      "display_name": "Python 3"
    },
    "language_info": {
      "name": "python"
    }
  },
  "cells": [
    {
      "cell_type": "code",
      "execution_count": 2,
      "metadata": {
        "colab": {
          "base_uri": "https://localhost:8080/"
        },
        "id": "1Ls42iCcBEg9",
        "outputId": "47992971-a7cc-4ce8-8111-e6e9569f417d"
      },
      "outputs": [
        {
          "output_type": "stream",
          "name": "stdout",
          "text": [
            "Veri Yapıları-Ders 5/İSTKA\n"
          ]
        }
      ],
      "source": [
        "print(\"Veri Yapıları-Ders 5/İSTKA\")"
      ]
    },
    {
      "cell_type": "code",
      "source": [
        "import sys\n",
        "print (sys.version)"
      ],
      "metadata": {
        "colab": {
          "base_uri": "https://localhost:8080/"
        },
        "id": "dMiL-tEqBWAv",
        "outputId": "0fc17a5c-9fa4-4b91-85b0-90aea329f954"
      },
      "execution_count": 3,
      "outputs": [
        {
          "output_type": "stream",
          "name": "stdout",
          "text": [
            "3.10.12 (main, Jul 29 2024, 16:56:48) [GCC 11.4.0]\n"
          ]
        }
      ]
    },
    {
      "cell_type": "code",
      "source": [
        "from google.colab import drive\n",
        "drive.mount('/content/drive')"
      ],
      "metadata": {
        "colab": {
          "base_uri": "https://localhost:8080/"
        },
        "id": "5Xd9e9oXBdq-",
        "outputId": "98628885-a1d6-471c-e405-b65501b4b6af"
      },
      "execution_count": 4,
      "outputs": [
        {
          "output_type": "stream",
          "name": "stdout",
          "text": [
            "Mounted at /content/drive\n"
          ]
        }
      ]
    },
    {
      "cell_type": "code",
      "source": [
        "import os\n",
        "os.chdir('/content/drive/My Drive/veriyapilari_istka')\n",
        "\n",
        "!pwd # bize kodun çıktısını dosya yolu olarak veren kod blogudur."
      ],
      "metadata": {
        "colab": {
          "base_uri": "https://localhost:8080/"
        },
        "id": "ifZ5AJDZ8TVA",
        "outputId": "ac8f6070-9702-4ef7-f64a-93dc101a9e1b"
      },
      "execution_count": 8,
      "outputs": [
        {
          "output_type": "stream",
          "name": "stdout",
          "text": [
            "/content/drive/My Drive/veriyapilari_istka\n"
          ]
        }
      ]
    },
    {
      "cell_type": "code",
      "source": [
        "# 1 ile 100 arasındaki sayılardan 7'ye bölünenleri bulan Python kodu\n",
        "Sayi_dizisi = []\n",
        "Sayi_dizisi2 = []\n",
        "sayi = 1\n",
        "\n",
        "while sayi <= 100:\n",
        "    if sayi % 7 == 0:\n",
        "        Sayi_dizisi.append(sayi)\n",
        "    elif sayi & 7 != 0:\n",
        "        Sayi_dizisi2.append(sayi)\n",
        "    sayi += 1\n",
        "\n",
        "# Sonucu ekrana yazdır\n",
        "print(\"1 ile 100 arasındaki 7'ye bölünen sayılar:\", Sayi_dizisi)\n",
        "print(\"Toplam sayı adeti: \", len(Sayi_dizisi))\n",
        "\n",
        "print(\"1 ile 100 arasında 7 ye bölünmeyen sayılar\",Sayi_dizisi2)\n",
        "print(\"Toplam sayı adeti\",len(Sayi_dizisi2))"
      ],
      "metadata": {
        "colab": {
          "base_uri": "https://localhost:8080/"
        },
        "id": "zouLNrPDH3NN",
        "outputId": "b30b7ab4-bfbe-4060-ae38-1aafac0d1b39"
      },
      "execution_count": 8,
      "outputs": [
        {
          "output_type": "stream",
          "name": "stdout",
          "text": [
            "1 ile 100 arasındaki 7'ye bölünen sayılar: [7, 14, 21, 28, 35, 42, 49, 56, 63, 70, 77, 84, 91, 98]\n",
            "Toplam sayı adeti:  14\n",
            "1 ile 100 arasında 7 ye bölünmeyen sayılar [1, 2, 3, 4, 5, 6, 9, 10, 11, 12, 13, 15, 17, 18, 19, 20, 22, 23, 25, 26, 27, 29, 30, 31, 33, 34, 36, 37, 38, 39, 41, 43, 44, 45, 46, 47, 50, 51, 52, 53, 54, 55, 57, 58, 59, 60, 61, 62, 65, 66, 67, 68, 69, 71, 73, 74, 75, 76, 78, 79, 81, 82, 83, 85, 86, 87, 89, 90, 92, 93, 94, 95, 97, 99, 100]\n",
            "Toplam sayı adeti 75\n"
          ]
        }
      ]
    },
    {
      "cell_type": "code",
      "source": [
        "#Girilen iki kodun hangisinin büyük olduğunu bulan ve sayı dışı girilen karakter hatası veren uygulama\n",
        "\n",
        "while True:\n",
        "  try:\n",
        "    gelen1=float(input(\"Sayi1:\"))\n",
        "    gelen2=float(input(\"Sayi2:\"))\n",
        "\n",
        "    if gelen1 > gelen2:\n",
        "      print(\"İlk sayı büyüktür\")\n",
        "    elif gelen1 < gelen2:\n",
        "      print(\"İkinci sayı büyüktür\")\n",
        "    else:\n",
        "      print(\"Sayılar birbirine eşittir\")\n",
        "\n",
        "    break\n",
        "\n",
        "  except ValueError:\n",
        "      print(\"Hatalı tuşa bastınız\")"
      ],
      "metadata": {
        "colab": {
          "base_uri": "https://localhost:8080/"
        },
        "id": "jKzbh1MgIlOO",
        "outputId": "e8d7ea19-5e55-40ea-a50d-6937858b7439"
      },
      "execution_count": 15,
      "outputs": [
        {
          "output_type": "stream",
          "name": "stdout",
          "text": [
            "Sayi1:6\n",
            "Sayi2:8\n",
            "İkinci sayı büyüktür\n"
          ]
        }
      ]
    },
    {
      "cell_type": "code",
      "source": [
        "# Kullanıcıdan alınan sayıya kadar 1'den başlayarak faktöreyel hesabının yapılması\n",
        "while True:\n",
        "  try:\n",
        "    sayi=int(input(\"Bir sayi giriniz:\"))\n",
        "    if sayi<0:\n",
        "      print(\"Negatif sayıların faktöriyeli hesaplanmaz\")\n",
        "    elif sayi == 0 or sayi == 1:\n",
        "      print(1)\n",
        "    else:\n",
        "      sonuc=1\n",
        "      while sayi>1:\n",
        "           sonuc*=sayi\n",
        "           sayi-=1\n",
        "      print(sonuc)\n",
        "    break\n",
        "\n",
        "  except ValueError:\n",
        "    print(\"Lutfen gecerli bir tamsayı giriniz:\")"
      ],
      "metadata": {
        "colab": {
          "base_uri": "https://localhost:8080/"
        },
        "id": "9F9FGeHeH7B8",
        "outputId": "0da9afaa-5a58-4090-e745-79a5e9e5e76b"
      },
      "execution_count": 25,
      "outputs": [
        {
          "output_type": "stream",
          "name": "stdout",
          "text": [
            "Bir sayi giriniz:5\n",
            "120\n"
          ]
        }
      ]
    },
    {
      "cell_type": "code",
      "source": [
        "sayac=21\n",
        "while 0 < sayac:\n",
        "  sayac-=1\n",
        "  print(\"Sayı\",sayac)\n",
        "\n"
      ],
      "metadata": {
        "colab": {
          "base_uri": "https://localhost:8080/"
        },
        "id": "1bjstTHbPPcS",
        "outputId": "cbe9aad4-e129-435e-85bb-87427cbb233f"
      },
      "execution_count": 4,
      "outputs": [
        {
          "output_type": "stream",
          "name": "stdout",
          "text": [
            "Sayı 20\n",
            "Sayı 19\n",
            "Sayı 18\n",
            "Sayı 17\n",
            "Sayı 16\n",
            "Sayı 15\n",
            "Sayı 14\n",
            "Sayı 13\n",
            "Sayı 12\n",
            "Sayı 11\n",
            "Sayı 10\n",
            "Sayı 9\n",
            "Sayı 8\n",
            "Sayı 7\n",
            "Sayı 6\n",
            "Sayı 5\n",
            "Sayı 4\n",
            "Sayı 3\n",
            "Sayı 2\n",
            "Sayı 1\n",
            "Sayı 0\n"
          ]
        }
      ]
    },
    {
      "cell_type": "markdown",
      "source": [
        "Kullanıcıdan başlangıç ve bitiş değerlerini alarak, bu değerler arasındaki çift sayıları bulan ve bu çift sayıların toplamını hesaplayan bir Python programı yazınız."
      ],
      "metadata": {
        "id": "d0EH1MvaXGvX"
      }
    },
    {
      "cell_type": "code",
      "source": [
        "while True:\n",
        "    try:\n",
        "        baslangic_degeri = int(input(\"Başlangıç değerini girin: \"))\n",
        "        if baslangic_degeri < 0:\n",
        "            baslangic_degeri = abs(baslangic_degeri)\n",
        "            print(f\"Negatif değer girdiniz, pozitif olarak alındı: {baslangic_degeri}\")\n",
        "        break\n",
        "    except ValueError:\n",
        "        print(\"Lütfen geçerli bir tam sayı girin.\")\n",
        "\n",
        "# Kullanıcıdan son değer al\n",
        "while True:\n",
        "    try:\n",
        "        bitis_degeri = int(input(\"Bitiş değerini girin: \"))\n",
        "        if bitis_degeri < 0:\n",
        "            bitis_degeri = abs(bitis_degeri)\n",
        "            print(f\"Negatif değer girdiniz, pozitif olarak alındı: {bitis_degeri}\")\n",
        "        break\n",
        "    except ValueError:\n",
        "        print(\"Lütfen geçerli bir tam sayı girin.\")\n",
        "\n",
        "\n",
        "# Başlangıç ve bitiş değerleri arasında çift sayıları bul ve topla\n",
        "cift_sayilar = []\n",
        "cift_sayilarin_toplami = 0\n",
        "sayi = baslangic_degeri\n",
        "\n",
        "while sayi <= bitis_degeri:\n",
        "    if sayi % 2 == 0:\n",
        "        cift_sayilar.append(sayi)\n",
        "        cift_sayilarin_toplami += sayi\n",
        "    sayi += 1\n",
        "\n",
        "# Elde edilen çift sayıları ve toplamlarını ekrana yazdır\n",
        "print(f\"{baslangic_degeri} ile {bitis_degeri} arasındaki çift sayılar:\")\n",
        "for num in cift_sayilar:\n",
        "    print(num, end=\" \")\n",
        "\n",
        "print(f\"\\nÇift sayıların toplamı: {cift_sayilarin_toplami}\")"
      ],
      "metadata": {
        "colab": {
          "base_uri": "https://localhost:8080/"
        },
        "id": "7HHlL_VwW-BI",
        "outputId": "59a6b6c8-834b-4fbd-ec37-59a8883b7885"
      },
      "execution_count": 12,
      "outputs": [
        {
          "output_type": "stream",
          "name": "stdout",
          "text": [
            "Başlangıç değerini girin: 30\n",
            "Bitiş değerini girin: 100\n",
            "30 ile 100 arasındaki çift sayılar:\n",
            "30 32 34 36 38 40 42 44 46 48 50 52 54 56 58 60 62 64 66 68 70 72 74 76 78 80 82 84 86 88 90 92 94 96 98 100 \n",
            "Çift sayıların toplamı: 2340\n"
          ]
        }
      ]
    },
    {
      "cell_type": "code",
      "source": [
        "# Önceden tanımlalan sesli harf listesinde girilen metnin karşılaştırılması yapılarak sesli ve sessiz harf kontrolünün yapımı\n",
        "sesli_harfler = 'aeıioöuüAEIİOÖUÜ'\n",
        "\n",
        "kelime = input(\"Lutfen bir kelime girin:\")  #kullanıcıdan bir kelime al\n",
        "\n",
        "# Sesli ve sessiz harf sayısını hesapla\n",
        "sesli_harf_sayisi = 0\n",
        "sessiz_harf_sayisi = 0\n",
        "\n",
        "\n",
        "'''\n",
        "isalpha() ile bir stringde yalnızca harf olup olmadığını kontrol etmek için kullanılır.\n",
        "\n",
        "Aşağıdaki kod blogunda geçen \"isalpha\" harf dışı bir karakter ile karşılaşınca \"false\" döndürmektedir.\n",
        "'''\n",
        "\n",
        "for harf in kelime:\n",
        "    if harf.isalpha():   #Sadece harfleri kontrol et\n",
        "      if harf in sesli_harfler:\n",
        "         sesli_harf_sayisi+=1\n",
        "      else:\n",
        "        sessiz_harf_sayisi+=1\n",
        " #Sonuçları ekrana yazdır\n",
        "print(kelime, \"kelimesinde\" , sesli_harf_sayisi , \"adet sesli harf ve\", sessiz_harf_sayisi, \"sessiz harf vardır.\")"
      ],
      "metadata": {
        "colab": {
          "base_uri": "https://localhost:8080/"
        },
        "id": "w2dnIeOpZq9S",
        "outputId": "9946278d-7b42-4563-ac48-df3d1d9ae97b"
      },
      "execution_count": 17,
      "outputs": [
        {
          "output_type": "stream",
          "name": "stdout",
          "text": [
            "Lutfen bir kelime girin:izmir\n",
            "izmir kelimesinde 2 adet sesli harf ve 3 sessiz harf vardır.\n"
          ]
        }
      ]
    }
  ]
}