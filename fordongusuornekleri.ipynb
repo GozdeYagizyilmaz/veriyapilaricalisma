{
  "nbformat": 4,
  "nbformat_minor": 0,
  "metadata": {
    "colab": {
      "provenance": []
    },
    "kernelspec": {
      "name": "python3",
      "display_name": "Python 3"
    },
    "language_info": {
      "name": "python"
    }
  },
  "cells": [
    {
      "cell_type": "code",
      "execution_count": 1,
      "metadata": {
        "colab": {
          "base_uri": "https://localhost:8080/"
        },
        "id": "8uf1hikBzwcL",
        "outputId": "ea0b7084-561d-4e52-d553-17b0e54e5906"
      },
      "outputs": [
        {
          "output_type": "stream",
          "name": "stdout",
          "text": [
            "Pyhton için for döngüsü örnekleri-Veriyapıları/İSTKA\n"
          ]
        }
      ],
      "source": [
        "print(\"Pyhton için for döngüsü örnekleri-Veriyapıları/İSTKA\")"
      ]
    },
    {
      "cell_type": "code",
      "source": [
        "import sys\n",
        "print (sys.version)"
      ],
      "metadata": {
        "colab": {
          "base_uri": "https://localhost:8080/"
        },
        "id": "0WApGObOz6Z5",
        "outputId": "d7a55149-1f18-4f89-92bb-a81ed9cdff3f"
      },
      "execution_count": 3,
      "outputs": [
        {
          "output_type": "stream",
          "name": "stdout",
          "text": [
            "3.10.12 (main, Jul 29 2024, 16:56:48) [GCC 11.4.0]\n"
          ]
        }
      ]
    },
    {
      "cell_type": "code",
      "source": [
        "from google.colab import drive\n",
        "drive.mount ('/content/drive/')"
      ],
      "metadata": {
        "colab": {
          "base_uri": "https://localhost:8080/"
        },
        "id": "LxGo2l1y0f4S",
        "outputId": "8f4abf3c-e869-4072-f602-094f1cd87dc0"
      },
      "execution_count": 4,
      "outputs": [
        {
          "output_type": "stream",
          "name": "stdout",
          "text": [
            "Mounted at /content/drive/\n"
          ]
        }
      ]
    },
    {
      "cell_type": "code",
      "source": [
        "import os\n",
        "os.chdir('/content/drive/My Drive/veriyapilari_istka')"
      ],
      "metadata": {
        "id": "uh7AJPwR0yTR"
      },
      "execution_count": 5,
      "outputs": []
    },
    {
      "cell_type": "code",
      "source": [
        "#1 den 9 a kadar sayma sayıları sıralama\n",
        "sayilar=[1,2,3,4,5,6,7,8,9,]\n",
        "\n",
        "for i in sayilar:\n",
        "    print(i)"
      ],
      "metadata": {
        "colab": {
          "base_uri": "https://localhost:8080/"
        },
        "id": "E1Zl-oLp0_uH",
        "outputId": "ea6d0ce2-d715-488d-8ef8-0aff8fb9d4a3"
      },
      "execution_count": 9,
      "outputs": [
        {
          "output_type": "stream",
          "name": "stdout",
          "text": [
            "1\n",
            "2\n",
            "3\n",
            "4\n",
            "5\n",
            "6\n",
            "7\n",
            "8\n",
            "9\n"
          ]
        }
      ]
    },
    {
      "cell_type": "code",
      "source": [
        "#0 dan 9 a kadar sayıları sıralama\n",
        "sayilar=[1,2,3,4,5,6,7,8,9]\n",
        "\n",
        "for i in  range(10):\n",
        "    print(i)"
      ],
      "metadata": {
        "colab": {
          "base_uri": "https://localhost:8080/"
        },
        "id": "1tdIjfHZ3DvB",
        "outputId": "40c0c25c-9eee-4973-8572-b8271f6365d6"
      },
      "execution_count": 12,
      "outputs": [
        {
          "output_type": "stream",
          "name": "stdout",
          "text": [
            "0\n",
            "1\n",
            "2\n",
            "3\n",
            "4\n",
            "5\n",
            "6\n",
            "7\n",
            "8\n",
            "9\n"
          ]
        }
      ]
    },
    {
      "cell_type": "code",
      "source": [
        "#meyve listesi oluşturma\n",
        "meyveler=['elma','armut','kiraz','muz','seftali']\n",
        "\n",
        "for meyvelistesi in meyveler:\n",
        "    print(meyvelistesi)"
      ],
      "metadata": {
        "colab": {
          "base_uri": "https://localhost:8080/"
        },
        "id": "c5GQhpZe3ktE",
        "outputId": "84b45dbc-2bd3-456c-8bd0-db8ff2127354"
      },
      "execution_count": 13,
      "outputs": [
        {
          "output_type": "stream",
          "name": "stdout",
          "text": [
            "elma\n",
            "armut\n",
            "kiraz\n",
            "muz\n",
            "seftali\n"
          ]
        }
      ]
    },
    {
      "cell_type": "code",
      "source": [
        "#for döngüsünde string kullanımı\n",
        "isim=\"BLOG\"\n",
        "\n",
        "for a in isim:\n",
        "    print(a)"
      ],
      "metadata": {
        "colab": {
          "base_uri": "https://localhost:8080/"
        },
        "id": "A-pueoes4atZ",
        "outputId": "68f4329f-a536-4489-83cf-84a6647e91ab"
      },
      "execution_count": 15,
      "outputs": [
        {
          "output_type": "stream",
          "name": "stdout",
          "text": [
            "B\n",
            "L\n",
            "O\n",
            "G\n"
          ]
        }
      ]
    },
    {
      "cell_type": "code",
      "source": [
        "#iki sayı arasında döngü oluşturmak\n",
        "\n",
        "for i in range(1,6):\n",
        "    print(\"♥\"*i)"
      ],
      "metadata": {
        "colab": {
          "base_uri": "https://localhost:8080/"
        },
        "id": "ZdPbl_Wb5WGZ",
        "outputId": "62a98376-8d0b-4281-e2ec-35d3ee947a98"
      },
      "execution_count": 16,
      "outputs": [
        {
          "output_type": "stream",
          "name": "stdout",
          "text": [
            "♥\n",
            "♥♥\n",
            "♥♥♥\n",
            "♥♥♥♥\n",
            "♥♥♥♥♥\n"
          ]
        }
      ]
    },
    {
      "cell_type": "code",
      "source": [
        "#iki sayı arasında döngü oluşturmak-2\n",
        "\n",
        "for i in range(5,10):\n",
        "    print(1+i)"
      ],
      "metadata": {
        "colab": {
          "base_uri": "https://localhost:8080/"
        },
        "id": "MjdXMByY5ym2",
        "outputId": "b39f22e2-642a-420e-8e41-acf10ba72961"
      },
      "execution_count": 20,
      "outputs": [
        {
          "output_type": "stream",
          "name": "stdout",
          "text": [
            "6\n",
            "7\n",
            "8\n",
            "9\n",
            "10\n"
          ]
        }
      ]
    },
    {
      "cell_type": "code",
      "source": [
        "#for döngüsünü durdurma\n",
        "\n",
        "for i in range(8):\n",
        "  if i==5:\n",
        "      break #break komutu 5 e kadar sayma koşulunu sağlamıştır/range komutu ile sayma 0 dan başladı.\n",
        "  print(i)"
      ],
      "metadata": {
        "colab": {
          "base_uri": "https://localhost:8080/"
        },
        "id": "f-aWLjRU6TLs",
        "outputId": "b51613f1-c5a6-4215-bee0-a69859ad78cd"
      },
      "execution_count": 29,
      "outputs": [
        {
          "output_type": "stream",
          "name": "stdout",
          "text": [
            "0\n",
            "1\n",
            "2\n",
            "3\n",
            "4\n"
          ]
        }
      ]
    },
    {
      "cell_type": "code",
      "source": [
        "#for döngüsünde atlama yapmak\n",
        "\n",
        "for i in range(20):\n",
        "  if i % 2 == 0:\n",
        "        continue\n",
        "  print(i)"
      ],
      "metadata": {
        "colab": {
          "base_uri": "https://localhost:8080/"
        },
        "id": "o3XA5Ay07ElB",
        "outputId": "3fdd64c0-bdc8-44d8-d19e-f1aac10f846e"
      },
      "execution_count": 35,
      "outputs": [
        {
          "output_type": "stream",
          "name": "stdout",
          "text": [
            "1\n",
            "3\n",
            "5\n",
            "7\n",
            "9\n",
            "11\n",
            "13\n",
            "15\n",
            "17\n",
            "19\n"
          ]
        }
      ]
    },
    {
      "cell_type": "code",
      "source": [
        "#1-100 Arası 3′ e ve 5′ e tam bölünen sayıları bulma\n",
        "\n",
        "for i in range(1,101):\n",
        "    if i % 3 == 0 or  i % 5==0:\n",
        "        print(i)\n"
      ],
      "metadata": {
        "colab": {
          "base_uri": "https://localhost:8080/"
        },
        "id": "bAXsLsee7r_J",
        "outputId": "eb940183-d362-46ff-c9c8-a61b0e36926f"
      },
      "execution_count": 48,
      "outputs": [
        {
          "output_type": "stream",
          "name": "stdout",
          "text": [
            "3\n",
            "5\n",
            "6\n",
            "9\n",
            "10\n",
            "12\n",
            "15\n",
            "18\n",
            "20\n",
            "21\n",
            "24\n",
            "25\n",
            "27\n",
            "30\n",
            "33\n",
            "35\n",
            "36\n",
            "39\n",
            "40\n",
            "42\n",
            "45\n",
            "48\n",
            "50\n",
            "51\n",
            "54\n",
            "55\n",
            "57\n",
            "60\n",
            "63\n",
            "65\n",
            "66\n",
            "69\n",
            "70\n",
            "72\n",
            "75\n",
            "78\n",
            "80\n",
            "81\n",
            "84\n",
            "85\n",
            "87\n",
            "90\n",
            "93\n",
            "95\n",
            "96\n",
            "99\n",
            "100\n"
          ]
        }
      ]
    },
    {
      "cell_type": "code",
      "source": [
        "# 1 den Kullanıcının Girdiği Sayıya Kadar Sayıları Listeleme\n",
        "\n",
        "sayi=input('Lutfen bir sayi giriniz:')\n",
        "\n",
        "for i in range(1,int(sayi)+1):\n",
        "    print(i)\n",
        "\n"
      ],
      "metadata": {
        "colab": {
          "base_uri": "https://localhost:8080/"
        },
        "id": "1UsdUS_X8k3q",
        "outputId": "c922ed7f-43ac-4819-ff02-f457926aeea5"
      },
      "execution_count": 52,
      "outputs": [
        {
          "output_type": "stream",
          "name": "stdout",
          "text": [
            "Lutfen bir sayi giriniz:9\n",
            "1\n",
            "2\n",
            "3\n",
            "4\n",
            "5\n",
            "6\n",
            "7\n",
            "8\n",
            "9\n"
          ]
        }
      ]
    },
    {
      "cell_type": "code",
      "source": [],
      "metadata": {
        "id": "Yiy5vTIdBgNW"
      },
      "execution_count": null,
      "outputs": []
    },
    {
      "cell_type": "code",
      "source": [
        "#Kullanıcın girdiği iki sayı arasındaki sayıların toplamı\n",
        "\n",
        "\n",
        "\n"
      ],
      "metadata": {
        "colab": {
          "base_uri": "https://localhost:8080/",
          "height": 106
        },
        "id": "zZqCVi0t_Fn7",
        "outputId": "820ba7d3-0997-41c5-bee2-a89fe923f65c"
      },
      "execution_count": 56,
      "outputs": [
        {
          "output_type": "error",
          "ename": "SyntaxError",
          "evalue": "incomplete input (<ipython-input-56-4e0a262a18d7>, line 8)",
          "traceback": [
            "\u001b[0;36m  File \u001b[0;32m\"<ipython-input-56-4e0a262a18d7>\"\u001b[0;36m, line \u001b[0;32m8\u001b[0m\n\u001b[0;31m    \u001b[0m\n\u001b[0m    ^\u001b[0m\n\u001b[0;31mSyntaxError\u001b[0m\u001b[0;31m:\u001b[0m incomplete input\n"
          ]
        }
      ]
    },
    {
      "cell_type": "code",
      "source": [
        "#Kullanıcın girdiği iki sayı arasındaki sayıların toplamı\n",
        "\n",
        "toplam=0;\n",
        "sayi1=input('1. Sayı: ')\n",
        "sayi2=input('2. Sayı: ')\n",
        "for i in range(int(sayi1)+1,int(sayi2)):\n",
        " toplam+=i\n",
        "print(\"{0} ile {1} arasındaki sayıların toplamı : {2}\".format(sayi1,sayi2,toplam))\n",
        "\n"
      ],
      "metadata": {
        "colab": {
          "base_uri": "https://localhost:8080/"
        },
        "outputId": "57f0625a-9ec6-4944-c5a6-a4fd2f571bd5",
        "id": "7OqvHpprB23m"
      },
      "execution_count": 62,
      "outputs": [
        {
          "output_type": "stream",
          "name": "stdout",
          "text": [
            "1. Sayı: 3\n",
            "2. Sayı: 9\n",
            "3 ile 9 arasındaki sayıların toplamı : 30\n"
          ]
        }
      ]
    },
    {
      "cell_type": "code",
      "source": [
        "#Girilen Sayının Asal Sayı mı Değil mi olduğunu bulma\n",
        "\n",
        "sayac=0\n",
        "sayi=input('bir sayi giriniz:')\n",
        "\n",
        "for i in range(2,int(sayi)):\n",
        " if(int(sayi)%i==0):\n",
        "\n",
        "      sayac+=1\n",
        "      break\n",
        "if(sayac!=0):\n",
        " print(\"Sayı Asal Değil\")\n",
        "else:\n",
        " print(\"Sayı Asal\")"
      ],
      "metadata": {
        "colab": {
          "base_uri": "https://localhost:8080/"
        },
        "id": "YGcJHHciCvnX",
        "outputId": "0dc11e15-de97-417f-ee0c-09696597f26f"
      },
      "execution_count": 70,
      "outputs": [
        {
          "output_type": "stream",
          "name": "stdout",
          "text": [
            "bir sayi giriniz:9\n",
            "Sayı Asal Değil\n"
          ]
        }
      ]
    }
  ]
}