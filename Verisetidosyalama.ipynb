{
  "nbformat": 4,
  "nbformat_minor": 0,
  "metadata": {
    "colab": {
      "provenance": []
    },
    "kernelspec": {
      "name": "python3",
      "display_name": "Python 3"
    },
    "language_info": {
      "name": "python"
    }
  },
  "cells": [
    {
      "cell_type": "code",
      "execution_count": null,
      "metadata": {
        "colab": {
          "base_uri": "https://localhost:8080/"
        },
        "id": "TvGruy7-p2Q0",
        "outputId": "d5987ac8-a890-4102-e27e-b2c1ae12c3b5"
      },
      "outputs": [
        {
          "output_type": "stream",
          "name": "stdout",
          "text": [
            "Veri yapıları ve Algoritma /Veri Seti/ İSTKA\n"
          ]
        }
      ],
      "source": [
        "print(\"Veri yapıları ve Algoritma /Veri Seti/ İSTKA\")"
      ]
    },
    {
      "cell_type": "code",
      "source": [
        "import sys\n",
        "print(sys.version)"
      ],
      "metadata": {
        "colab": {
          "base_uri": "https://localhost:8080/"
        },
        "id": "iSD0hTmzp-nU",
        "outputId": "bef246c3-5b9f-4dcb-83c8-276d48d5aaa9"
      },
      "execution_count": null,
      "outputs": [
        {
          "output_type": "stream",
          "name": "stdout",
          "text": [
            "3.10.12 (main, Jul 29 2024, 16:56:48) [GCC 11.4.0]\n"
          ]
        }
      ]
    },
    {
      "cell_type": "code",
      "execution_count": null,
      "metadata": {
        "colab": {
          "base_uri": "https://localhost:8080/"
        },
        "id": "wF_iC9-zElpT",
        "outputId": "e3ed8fc7-9439-4db8-da0a-489165ed6fc9"
      },
      "outputs": [
        {
          "output_type": "stream",
          "name": "stdout",
          "text": [
            "Mounted at /content/drive\n"
          ]
        }
      ],
      "source": [
        "from google.colab import drive\n",
        "drive.mount('/content/drive')"
      ]
    },
    {
      "cell_type": "code",
      "source": [
        "import os\n",
        "os.chdir('/content/drive/My Drive/veriyapilari_istka')\n",
        "\n",
        "!pwd"
      ],
      "metadata": {
        "colab": {
          "base_uri": "https://localhost:8080/"
        },
        "id": "SLSzwFeQ-P2d",
        "outputId": "7a51e52c-3c8e-4a62-cce9-2adf00133bc3"
      },
      "execution_count": null,
      "outputs": [
        {
          "output_type": "stream",
          "name": "stdout",
          "text": [
            "/content/drive/My Drive/veriyapilari_istka\n"
          ]
        }
      ]
    },
    {
      "cell_type": "markdown",
      "source": [
        "PYTHON PROGRAMLAMA DİLİNDE DOSYA İŞLEMLERİ\n",
        "\n",
        "Python programlama dilinde dosya işlemleri; dosyaların okunması, yazılması, güncellenmesi ve kapatılması gibi işlemleri kapsamaktadır. Dosya işlemleri, genellikle dosyaların içeriğini almak, bilgi üzerinde işlem yapabilmek veya yeni dosyalar oluşturmak için kullanılır.\n",
        "\n",
        "PYTHON programlama dili üzerindeki dosya işlemleri bağlamında Yapay Zeka (YZ) çalışmaları noktasında veri setlerini ele aldık. Veri yapıları ve Algoritmalar'ın sonucu olarak yapay zeka çalışmaları ele alacağız. Doğru veri yapısı için bu bağlamda yapay zeka uygulamaları için veri setlerinin önemi:\n",
        "\n",
        "Modelin Doğruluğu Geniş Kapsamlı bir genelleme Performans Modilin başarısı için verilerin doğruluğu çok önemlidir."
      ],
      "metadata": {
        "id": "1IO8wIyBMDs_"
      }
    },
    {
      "cell_type": "code",
      "source": [
        "import pandas as pd\n",
        "\n",
        "VeriSetiYolu = '/content/drive/My Drive/veriyapilari_istka/Veriseti'\n",
        "\n",
        "for file in os.listdir(VeriSetiYolu):                         # Klasördeki tüm dosyaları listele\n",
        "\n",
        "      if file.endswith(('.xlsx', '.xls')):                     # Sadece Excel dosyalarını seç\n",
        "\n",
        "          df = pd.read_excel(os.path.join(VeriSetiYolu, file))  # Excel dosyasını pandas ile oku\n",
        "\n",
        "          df.to_csv(os.path.join(VeriSetiYolu, file.rsplit('.', 1)[0] + '.csv'), index=False)\n",
        "                                                                 # DataFrame'i CSV formatında kaydet\n",
        "          print(f\"{file} dosyası CSV formatına çevrildi.\")     # Çevrim İşlemi Çıktısı\n",
        "\n",
        "  # İşlem tamamlandığında kaç tane excel dosyası var ise o kadar *.csv formatına çevildiğinin\n",
        "  # bilgisini almaktayız"
      ],
      "metadata": {
        "colab": {
          "base_uri": "https://localhost:8080/"
        },
        "id": "TnPwwroKGa5W",
        "outputId": "ab6646c9-0a3a-4ea2-d686-a08021e66446"
      },
      "execution_count": 18,
      "outputs": [
        {
          "output_type": "stream",
          "name": "stdout",
          "text": [
            "atktan-geri-kazanm-miktarlar.xlsx dosyası CSV formatına çevrildi.\n"
          ]
        }
      ]
    },
    {
      "cell_type": "code",
      "source": [],
      "metadata": {
        "id": "aKXUujaMHQ-2"
      },
      "execution_count": null,
      "outputs": []
    }
  ]
}